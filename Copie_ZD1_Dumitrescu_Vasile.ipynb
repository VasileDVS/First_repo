{
  "cells": [
    {
      "cell_type": "markdown",
      "metadata": {
        "colab_type": "text",
        "id": "view-in-github"
      },
      "source": [
        "<a href=\"https://colab.research.google.com/github/LaResistancePL/First_repo/blob/main/Kopia_notatnika_ZD1_PawelCiosmak.ipynb\" target=\"_parent\"><img src=\"https://colab.research.google.com/assets/colab-badge.svg\" alt=\"Open In Colab\"/></a>"
      ]
    },
    {
      "cell_type": "code",
      "execution_count": null,
      "metadata": {
        "colab": {
          "base_uri": "https://localhost:8080/"
        },
        "id": "otUKwbv6JLXh",
        "outputId": "b3647e6a-99bd-470a-868c-2bcfa190f3f1"
      },
      "outputs": [
        {
          "name": "stdout",
          "output_type": "stream",
          "text": [
            "[ 4 10  4 10  2  5 10  7]\n",
            "[ 5 25 60  4 10  8  1  7]\n",
            "52\n",
            "[ 0.8         0.4         0.06666667  2.5         0.2         0.625\n",
            " 10.          1.        ]\n",
            "[ 3.2        20.          0.53333333 12.5         6.          7.5\n",
            " 10.         10.        ]\n",
            "69.73333333333333\n"
          ]
        }
      ],
      "source": [
        "import numpy as np\n",
        "A = np.array([4,10,4,10,2,5,10,7])\n",
        "B = np.array([5,25,60,4,10,8,1,7])\n",
        "print(A)\n",
        "print(B)\n",
        "happiness_indicator = np.sum(A)\n",
        "print(happiness_indicator)\n",
        "C = A / B\n",
        "print(C)\n",
        "D = np.array([4,50,8,5,30,12,1,10])\n",
        "E = D * C\n",
        "print(E)\n",
        "forecasted_happiness = np.sum(E)\n",
        "print(forecasted_happiness)"
      ]
    }
  ],
  "metadata": {
    "colab": {
      "authorship_tag": "ABX9TyPF+lZQeM6VjXeVRi8k1xNw",
      "include_colab_link": true,
      "provenance": []
    },
    "kernelspec": {
      "display_name": "Python 3",
      "name": "python3"
    },
    "language_info": {
      "name": "python"
    }
  },
  "nbformat": 4,
  "nbformat_minor": 0
}
