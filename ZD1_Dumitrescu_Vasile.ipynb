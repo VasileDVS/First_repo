{
  "cells": [
    {
      "cell_type": "markdown",
      "metadata": {
        "colab_type": "text",
        "id": "view-in-github"
      },
      "source": [
        "<a href=\"https://colab.research.google.com/github/LaResistancePL/First_repo/blob/main/ZD1_PawelCiosmak.ipynb\" target=\"_parent\"><img src=\"https://colab.research.google.com/assets/colab-badge.svg\" alt=\"Open In Colab\"/></a>"
      ]
    },
    {
      "cell_type": "code",
      "execution_count": 10,
      "metadata": {
        "colab": {
          "base_uri": "https://localhost:8080/"
        },
        "id": "otUKwbv6JLXh",
        "outputId": "e55aa14d-37b8-4fb2-fd41-42e08048018c"
      },
      "outputs": [
        {
          "name": "stdout",
          "output_type": "stream",
          "text": [
            "[ 4 10  4 10  2  5 10  7]\n",
            "[ 5 25 60  4 10  8  1  7]\n"
          ]
        }
      ],
      "source": [
        "import numpy as np\n",
        "vector_a = np.array([4,10,4,10,2,5,10,7]) # represents your life balance wheel metrics\n",
        "vector_b = np.array([5,25,60,4,10,8,1,7]) # metrics of your life distribution across different spheres\n",
        "print(vector_a)\n",
        "print(vector_b)"
      ]
    },
    {
      "cell_type": "code",
      "execution_count": 11,
      "metadata": {
        "colab": {
          "base_uri": "https://localhost:8080/"
        },
        "id": "226A2VBYkxRQ",
        "outputId": "2fe9adae-fe40-4738-9787-3ac452809e66"
      },
      "outputs": [
        {
          "name": "stdout",
          "output_type": "stream",
          "text": [
            "52\n",
            "[ 0.8         0.4         0.06666667  2.5         0.2         0.625\n",
            " 10.          1.        ]\n"
          ]
        }
      ],
      "source": [
        "happiness_indicator = np.sum(vector_a) # happiness_indicator\n",
        "print(happiness_indicator)\n",
        "vector_c = vector_a / vector_b # how many \"happiness points\" you get for 1 hour per week that you dedicate to a particular sphere\n",
        "print(vector_c)\n"
      ]
    },
    {
      "cell_type": "code",
      "execution_count": 12,
      "metadata": {
        "colab": {
          "base_uri": "https://localhost:8080/"
        },
        "id": "PQfOf96ozr-0",
        "outputId": "0bafcae8-2a84-41b3-c72d-4b92e76ec112"
      },
      "outputs": [
        {
          "name": "stdout",
          "output_type": "stream",
          "text": [
            "[ 3.2        20.          0.53333333 12.5         6.          7.5\n",
            " 10.         10.        ]\n"
          ]
        }
      ],
      "source": [
        "vector_d = np.array([4,50,8,5,30,12,1,10]) # Redistributed Number of Hours\n",
        "vector_e = vector_d * vector_c # your forecasted satisfaction with the respective life spheres\n",
        "print(vector_e)\n"
      ]
    },
    {
      "cell_type": "code",
      "execution_count": 13,
      "metadata": {
        "colab": {
          "base_uri": "https://localhost:8080/"
        },
        "id": "JB-_eAf80Pwd",
        "outputId": "c3b1757c-a304-4a83-8db8-afa4483141f5"
      },
      "outputs": [
        {
          "name": "stdout",
          "output_type": "stream",
          "text": [
            "69.73333333333333\n"
          ]
        }
      ],
      "source": [
        "forecasted_happiness = np.sum(vector_e) # you the forecasted happiness indicator\n",
        "print(forecasted_happiness)"
      ]
    }
  ],
  "metadata": {
    "colab": {
      "authorship_tag": "ABX9TyMtHG6HDBWeA60wHMhRH1H8",
      "include_colab_link": true,
      "provenance": []
    },
    "kernelspec": {
      "display_name": "Python 3",
      "name": "python3"
    },
    "language_info": {
      "name": "python"
    }
  },
  "nbformat": 4,
  "nbformat_minor": 0
}
